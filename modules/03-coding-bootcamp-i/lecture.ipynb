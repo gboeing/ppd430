{
 "cells": [
  {
   "cell_type": "markdown",
   "metadata": {
    "id": "onKiuNDIW-Yz"
   },
   "source": [
    "# Coding Bootcamp I"
   ]
  },
  {
   "cell_type": "markdown",
   "metadata": {
    "id": "zF30d95DW-Y0"
   },
   "source": [
    "## The Jupyter Notebook"
   ]
  },
  {
   "cell_type": "markdown",
   "metadata": {
    "id": "zbOmgsqzW-Y1"
   },
   "source": [
    "Today we will cover the basics of Python, and introduce elements that will help you get familiar with Python as an interactive computational environment for exploring data.  The material is presented in an interactive environment that runs within your web browser, called a notebook. It allows presentation of text and graphics to be combined with Python code that can be run interactively, with the results appearing inline. We are looking at a notebook now.\n",
    "\n",
    "Python is an interpreted programming language, also referred to as a *high-level language* or as a scripting language. What this means is that when you write commands, or code that is meaningful in the Python language, the Python \"interpreter\" reads the command, figures out what the intended computation is, and then executes it. This differs from *low-level* languages like C or C++, in which you generally have to compile code  before you can run it, and if you find errors they have to be diagnosed and then the code re-compiled before you can run it. Interpreted languages skip the compile step, and just execute code directly, and if there are errors, they are seen at run-time.\n",
    "\n",
    "Pretty, pretty, pretty, pretty good."
   ]
  },
  {
   "cell_type": "markdown",
   "metadata": {
    "id": "BVw3vIYoW-Y1"
   },
   "source": [
    "## Python Environments"
   ]
  },
  {
   "cell_type": "markdown",
   "metadata": {
    "id": "cfoETptpW-Y2"
   },
   "source": [
    "There are several ways to work with Python code:\n",
    "1. Starting Python at the command line, by typing 'python' at the command prompt\n",
    "1. Running a Python script file (.py)\n",
    "1. The way we will generally interact with Python is through Jupyter notebooks, a handy interface that runs in your web browser.  This is the environment you are looking at now, with a mixture of headings, text, and code embedded in an Python Notebook.\n",
    "\n",
    "\n",
    "## Writing Code\n",
    "\n",
    "In a jupyter notebook cell, hit Shift + Enter to run it and move to the next cell, or Ctrl + Enter to run it and stay on the same cell.\n",
    "\n",
    "The first programming command demonstrated when you are learning a programming language is usually to make the computer print 'Hello World!'.  In Python, doing this is pretty simple:"
   ]
  },
  {
   "cell_type": "code",
   "execution_count": null,
   "metadata": {
    "id": "dPodGZkOW-Y2",
    "jupyter": {
     "outputs_hidden": false
    }
   },
   "outputs": [],
   "source": [
    "print(\"Hello World!\")"
   ]
  },
  {
   "cell_type": "code",
   "execution_count": null,
   "metadata": {
    "id": "9u4UMVi2W-Y3"
   },
   "outputs": [],
   "source": [
    "# this is a comment. the python interpreter ignores it.\n",
    "# comments are just notes for humans to read to help understand the code\n",
    "# best practice: add a comment for every couple lines of code to explain what's going on and why\n",
    "# you'd be amazed at how quickly you forget your code's logic (at least i always do)"
   ]
  },
  {
   "cell_type": "markdown",
   "metadata": {
    "id": "8i165D5EW-Y4"
   },
   "source": [
    "## The Notebook Interface\n",
    "\n",
    "Practicing working with the user interface by doing the following together:\n",
    "\n",
    "  1. Add a new code cell below this one.\n",
    "  2. Move it up.\n",
    "  3. Add a new text cell and type some text into it.\n",
    "  4. Cut it to delete it.\n",
    "  5. Edit > undo that cell operation.\n",
    "  6. Save the notebook file.\n",
    "  7. Restart the kernel and clear all outputs (under \"runtime\" and \"edit\" menus).\n",
    "  8. Run all cells up to this one.\n",
    "  \n",
    "Now repeat those steps by yourself to make sure you've got it all straight."
   ]
  },
  {
   "cell_type": "markdown",
   "metadata": {
    "id": "rQfLVAp7W-Y4"
   },
   "source": [
    "## Math in Python\n",
    "\n",
    "using mathematical operators"
   ]
  },
  {
   "cell_type": "code",
   "execution_count": null,
   "metadata": {
    "id": "8HqmHMMbW-Y5",
    "jupyter": {
     "outputs_hidden": false
    }
   },
   "outputs": [],
   "source": [
    "# add two integers\n",
    "1 + 1"
   ]
  },
  {
   "cell_type": "code",
   "execution_count": null,
   "metadata": {
    "id": "8UR18QWUW-Y5",
    "jupyter": {
     "outputs_hidden": false
    }
   },
   "outputs": [],
   "source": [
    "# multiply two integers\n",
    "2 * 3"
   ]
  },
  {
   "cell_type": "code",
   "execution_count": null,
   "metadata": {
    "id": "UaJ7n0ulW-Y6",
    "jupyter": {
     "outputs_hidden": false
    }
   },
   "outputs": [],
   "source": [
    "# spaces don't matter here, but keep them consistent for readability (...and they will matter momentarily)\n",
    "2 * 3"
   ]
  },
  {
   "cell_type": "code",
   "execution_count": null,
   "metadata": {
    "id": "NebvwahsW-Y7",
    "jupyter": {
     "outputs_hidden": false
    }
   },
   "outputs": [],
   "source": [
    "# divide two integers\n",
    "10 / 5"
   ]
  },
  {
   "cell_type": "code",
   "execution_count": null,
   "metadata": {
    "id": "etuwVvhSW-Y7",
    "jupyter": {
     "outputs_hidden": false
    }
   },
   "outputs": [],
   "source": [
    "# raise 2 to the 4th power\n",
    "2**4"
   ]
  },
  {
   "cell_type": "code",
   "execution_count": null,
   "metadata": {
    "id": "vMBrJImOW-Y7",
    "jupyter": {
     "outputs_hidden": false
    }
   },
   "outputs": [],
   "source": [
    "# take the square root of 9 (by raising it to the power of 0.5). notice the order of operations.\n",
    "9 ** (1 / 2)"
   ]
  },
  {
   "cell_type": "code",
   "execution_count": null,
   "metadata": {
    "id": "TawQoZjWW-Y8"
   },
   "outputs": [],
   "source": [
    "# now you try\n",
    "# in a single line, divide the sum of ninety plus seventy by the product of twelve and eleven"
   ]
  },
  {
   "cell_type": "markdown",
   "metadata": {
    "id": "Y42KrCipW-Y8"
   },
   "source": [
    "## Working with variables"
   ]
  },
  {
   "cell_type": "code",
   "execution_count": null,
   "metadata": {
    "id": "EZAwOSxjW-Y8",
    "jupyter": {
     "outputs_hidden": false
    }
   },
   "outputs": [],
   "source": [
    "# variables, such as x here, contain values and their values can vary\n",
    "x = 5"
   ]
  },
  {
   "cell_type": "code",
   "execution_count": null,
   "metadata": {
    "id": "LUmdjG9KW-Y9",
    "jupyter": {
     "outputs_hidden": false
    }
   },
   "outputs": [],
   "source": [
    "# what is the value of x?\n",
    "x"
   ]
  },
  {
   "cell_type": "code",
   "execution_count": null,
   "metadata": {
    "id": "PStfGjgrW-Y9",
    "jupyter": {
     "outputs_hidden": false
    }
   },
   "outputs": [],
   "source": [
    "# you can perform operations on variables, just like you can on two numbers\n",
    "x + 3"
   ]
  },
  {
   "cell_type": "code",
   "execution_count": null,
   "metadata": {
    "id": "eBhT0Ia_W-Y9",
    "jupyter": {
     "outputs_hidden": false
    }
   },
   "outputs": [],
   "source": [
    "# what is the value of x now?\n",
    "x"
   ]
  },
  {
   "cell_type": "code",
   "execution_count": null,
   "metadata": {
    "id": "ECewvcwUW-Y9",
    "jupyter": {
     "outputs_hidden": false
    }
   },
   "outputs": [],
   "source": [
    "# to update the value of a variable, you need to do an assignment again\n",
    "x = x + 3"
   ]
  },
  {
   "cell_type": "code",
   "execution_count": null,
   "metadata": {
    "id": "uvy156pqW-Y-",
    "jupyter": {
     "outputs_hidden": false
    }
   },
   "outputs": [],
   "source": [
    "# and now what is the value of x?\n",
    "x"
   ]
  },
  {
   "cell_type": "code",
   "execution_count": null,
   "metadata": {
    "id": "6JFyDGQGW-Y-",
    "jupyter": {
     "outputs_hidden": false
    }
   },
   "outputs": [],
   "source": [
    "# create a new variable y from an operation on x\n",
    "x = 5\n",
    "y = x * 2\n",
    "y"
   ]
  },
  {
   "cell_type": "code",
   "execution_count": null,
   "metadata": {
    "id": "2OPXKmIaW-Y-",
    "jupyter": {
     "outputs_hidden": false
    }
   },
   "outputs": [],
   "source": [
    "# outputting values only displays the last thing output\n",
    "# this is different from printing! it is kinda confusing!\n",
    "x\n",
    "y"
   ]
  },
  {
   "cell_type": "code",
   "execution_count": null,
   "metadata": {
    "id": "FJO5c6FTW-Y-",
    "jupyter": {
     "outputs_hidden": false
    }
   },
   "outputs": [],
   "source": [
    "# use print to write some value(s) to the \"console\"\n",
    "print(x)\n",
    "print(y)"
   ]
  },
  {
   "cell_type": "code",
   "execution_count": null,
   "metadata": {
    "id": "IiXddjULW-Y_",
    "jupyter": {
     "outputs_hidden": false
    }
   },
   "outputs": [],
   "source": [
    "# you can comma-separate values to print multiple values to the console on one line\n",
    "print(x, y)"
   ]
  },
  {
   "cell_type": "code",
   "execution_count": null,
   "metadata": {
    "id": "D0QaUlxhW-Y_",
    "jupyter": {
     "outputs_hidden": false
    }
   },
   "outputs": [],
   "source": [
    "# you can also print the result of an expression\n",
    "print(x * y)"
   ]
  },
  {
   "cell_type": "code",
   "execution_count": null,
   "metadata": {
    "id": "RUCg7DjeW-Y_"
   },
   "outputs": [],
   "source": [
    "# now it's your turn\n",
    "# in a single line, create a new variable z and set it equal to x divided the sum of x plus y"
   ]
  },
  {
   "cell_type": "markdown",
   "metadata": {
    "id": "9uVEZqT3W-Y_"
   },
   "source": [
    "## Getting help"
   ]
  },
  {
   "cell_type": "code",
   "execution_count": null,
   "metadata": {
    "id": "5lIKFT5mW-ZA",
    "jupyter": {
     "outputs_hidden": false
    }
   },
   "outputs": [],
   "source": [
    "# ask ipython for it by using '?'\n",
    "len?"
   ]
  },
  {
   "cell_type": "code",
   "execution_count": null,
   "metadata": {
    "id": "1ADe5vDDW-ZA",
    "jupyter": {
     "outputs_hidden": false
    }
   },
   "outputs": [],
   "source": [
    "# use tab-completion to fill in the rest of statements, functions, methods\n",
    "prin"
   ]
  },
  {
   "cell_type": "code",
   "execution_count": null,
   "metadata": {
    "id": "B27dgOxnW-ZA",
    "jupyter": {
     "outputs_hidden": false
    }
   },
   "outputs": [],
   "source": [
    "# tab-completion also works with variables you have created (ie, a variable in memory)\n",
    "number_of_students = 10"
   ]
  },
  {
   "cell_type": "code",
   "execution_count": null,
   "metadata": {
    "id": "oP0Yr5q8W-ZA",
    "jupyter": {
     "outputs_hidden": false
    }
   },
   "outputs": [],
   "source": [
    "numbe"
   ]
  },
  {
   "cell_type": "code",
   "execution_count": null,
   "metadata": {
    "id": "bFBBnAmFW-ZB",
    "jupyter": {
     "outputs_hidden": false
    }
   },
   "outputs": [],
   "source": [
    "# what about errors? you can't divide by zero...\n",
    "12 / 0"
   ]
  },
  {
   "cell_type": "markdown",
   "metadata": {
    "id": "AsIWuJFdW-ZB"
   },
   "source": [
    "How do you read that \"traceback\" message?\n",
    "\n",
    "For syntax errors or how to do something, Google it! (This is literally 90% of my job...)\n",
    "\n",
    "Also, StackOverflow is a particularly good site for code snippets and troubleshooting: https://stackoverflow.com/"
   ]
  },
  {
   "cell_type": "markdown",
   "metadata": {
    "id": "RBI1d_qKW-ZB"
   },
   "source": [
    "## Basic data types"
   ]
  },
  {
   "cell_type": "markdown",
   "metadata": {
    "id": "6i81QhXvW-ZC"
   },
   "source": [
    "Data in Python is interpreted as having a **type**.  In low-level, compiled languages like C or C++, the programmer has to explicitly declare the type of each variable before actually using it.  In Python, the type is inferred at run time, and you can always ask Python what the type of an object is:"
   ]
  },
  {
   "cell_type": "code",
   "execution_count": null,
   "metadata": {
    "id": "1priFo4TW-ZC",
    "jupyter": {
     "outputs_hidden": false
    }
   },
   "outputs": [],
   "source": [
    "# integers are whole numbers\n",
    "type(125)"
   ]
  },
  {
   "cell_type": "code",
   "execution_count": null,
   "metadata": {
    "id": "Mu5mugCOW-ZC",
    "jupyter": {
     "outputs_hidden": false
    }
   },
   "outputs": [],
   "source": [
    "# every variable has a data type, and they can be of any type\n",
    "x = 125\n",
    "type(x)"
   ]
  },
  {
   "cell_type": "code",
   "execution_count": null,
   "metadata": {
    "id": "assSuaytW-ZC"
   },
   "outputs": [],
   "source": [
    "isinstance(x, int)"
   ]
  },
  {
   "cell_type": "code",
   "execution_count": null,
   "metadata": {
    "id": "t5RaanzNW-ZC",
    "jupyter": {
     "outputs_hidden": false
    }
   },
   "outputs": [],
   "source": [
    "# float is a floating point (aka decimal) number\n",
    "some_rate = 4.3\n",
    "type(some_rate)"
   ]
  },
  {
   "cell_type": "code",
   "execution_count": null,
   "metadata": {
    "id": "EoXB2y1-W-ZC"
   },
   "outputs": [],
   "source": [
    "isinstance(some_rate, int)"
   ]
  },
  {
   "cell_type": "code",
   "execution_count": null,
   "metadata": {
    "id": "jFvd-VS9W-ZC"
   },
   "outputs": [],
   "source": [
    "# you can change a variable's type by re-assigning it\n",
    "some_rate = 125\n",
    "isinstance(some_rate, int)"
   ]
  },
  {
   "cell_type": "code",
   "execution_count": null,
   "metadata": {
    "id": "kq0zl_utW-ZD",
    "jupyter": {
     "outputs_hidden": false
    }
   },
   "outputs": [],
   "source": [
    "# strings are \"strings\" of characters\n",
    "s = \"abc\"\n",
    "type(s)"
   ]
  },
  {
   "cell_type": "code",
   "execution_count": null,
   "metadata": {
    "id": "cC1vApgwW-ZD",
    "jupyter": {
     "outputs_hidden": false
    }
   },
   "outputs": [],
   "source": [
    "# a list is a collection of elements denoted by square brackets\n",
    "# it knows it's a list because of those brackets\n",
    "my_list = [1, 2, 3, 4]\n",
    "my_list"
   ]
  },
  {
   "cell_type": "code",
   "execution_count": null,
   "metadata": {
    "id": "T-64mTSrW-ZD",
    "jupyter": {
     "outputs_hidden": false
    }
   },
   "outputs": [],
   "source": [
    "type(my_list)"
   ]
  },
  {
   "cell_type": "code",
   "execution_count": null,
   "metadata": {
    "id": "Hx6ErEDsW-ZD",
    "jupyter": {
     "outputs_hidden": false
    }
   },
   "outputs": [],
   "source": [
    "# a dictionary is a collection of key:value pairs, denoted by curly braces\n",
    "person = {\"first_name\": \"Geoff\", \"last_name\": \"Boeing\"}\n",
    "person"
   ]
  },
  {
   "cell_type": "code",
   "execution_count": null,
   "metadata": {
    "id": "h5cm5TlZW-ZE",
    "jupyter": {
     "outputs_hidden": false
    }
   },
   "outputs": [],
   "source": [
    "type(person)"
   ]
  },
  {
   "cell_type": "code",
   "execution_count": null,
   "metadata": {
    "id": "5MKHGyOAW-ZE"
   },
   "outputs": [],
   "source": [
    "# now you try\n",
    "# create a new dict variable containing the individual components of your home address"
   ]
  },
  {
   "cell_type": "markdown",
   "metadata": {
    "id": "txGwj1nQW-ZE"
   },
   "source": [
    "## Working with data types"
   ]
  },
  {
   "cell_type": "code",
   "execution_count": null,
   "metadata": {
    "id": "urnRYtdbW-ZE",
    "jupyter": {
     "outputs_hidden": false
    }
   },
   "outputs": [],
   "source": [
    "# divide 2 integers\n",
    "num1 = 8\n",
    "num2 = 5\n",
    "num1 / num2"
   ]
  },
  {
   "cell_type": "code",
   "execution_count": null,
   "metadata": {
    "id": "DYO7hsPCW-ZF",
    "jupyter": {
     "outputs_hidden": false
    }
   },
   "outputs": [],
   "source": [
    "# divide 2 integers (produces a float result consistently)\n",
    "num1 = 10\n",
    "num2 = 5\n",
    "num1 / num2"
   ]
  },
  {
   "cell_type": "code",
   "execution_count": null,
   "metadata": {
    "id": "XyQgJV8_W-ZF",
    "jupyter": {
     "outputs_hidden": false
    }
   },
   "outputs": [],
   "source": [
    "# check the data types as we go along by printing them\n",
    "# very useful for tracking progress as your code runs!\n",
    "num1 = 8.0\n",
    "print(type(num1))\n",
    "\n",
    "num2 = 5\n",
    "print(type(num2))\n",
    "\n",
    "num3 = num1 / num2\n",
    "print(type(num3))\n",
    "\n",
    "num3"
   ]
  },
  {
   "cell_type": "markdown",
   "metadata": {
    "id": "0odM-J8pW-ZF"
   },
   "source": [
    "## Strings"
   ]
  },
  {
   "cell_type": "code",
   "execution_count": null,
   "metadata": {
    "id": "Ronah9xKW-ZG",
    "jupyter": {
     "outputs_hidden": false
    }
   },
   "outputs": [],
   "source": [
    "# some of the operators we saw earlier work on strings\n",
    "city = \"Los Angeles\"\n",
    "sep = \", \"\n",
    "state = \"CA\"\n",
    "zip_code = \"90089\"\n",
    "\n",
    "# you can \"concatenate\" strings with the + operator\n",
    "location = city + sep + state + \" \" + zip_code\n",
    "print(location)"
   ]
  },
  {
   "cell_type": "code",
   "execution_count": null,
   "metadata": {
    "id": "Pvv0HgpGW-ZG",
    "jupyter": {
     "outputs_hidden": false
    }
   },
   "outputs": [],
   "source": [
    "# error\n",
    "zip_code = 02115"
   ]
  },
  {
   "cell_type": "code",
   "execution_count": null,
   "metadata": {
    "id": "MeSuGnGkW-ZH"
   },
   "outputs": [],
   "source": [
    "# the zip code 02115 isn't actually a number, it's a string of numeric characters\n",
    "# important to remember! zip codes aren't numeric, they are strings!\n",
    "zip_code = \"02115\""
   ]
  },
  {
   "cell_type": "code",
   "execution_count": null,
   "metadata": {
    "id": "DMkdJVaaW-ZH",
    "jupyter": {
     "outputs_hidden": false
    }
   },
   "outputs": [],
   "source": [
    "# multiplying a string just duplicates it\n",
    "zip_code * 3"
   ]
  },
  {
   "cell_type": "code",
   "execution_count": null,
   "metadata": {
    "id": "LNTvzKHVW-ZH",
    "jupyter": {
     "outputs_hidden": false
    }
   },
   "outputs": [],
   "source": [
    "# you can get the nth element from an iterable object (like a string) with [n] indexing notation\n",
    "# remember, in Python the index starts with zero not one\n",
    "print(location)\n",
    "location[0]"
   ]
  },
  {
   "cell_type": "code",
   "execution_count": null,
   "metadata": {
    "id": "qY_h1KIIW-ZH"
   },
   "outputs": [],
   "source": [
    "print(location[0])\n",
    "print(location[1])\n",
    "print(location[2])"
   ]
  },
  {
   "cell_type": "code",
   "execution_count": null,
   "metadata": {
    "id": "O8j2LHDLW-ZI",
    "jupyter": {
     "outputs_hidden": false
    }
   },
   "outputs": [],
   "source": [
    "# how many characters are in this string? use len function\n",
    "len(location)"
   ]
  },
  {
   "cell_type": "code",
   "execution_count": null,
   "metadata": {
    "id": "XhvyCnXbW-ZI",
    "jupyter": {
     "outputs_hidden": false
    }
   },
   "outputs": [],
   "source": [
    "# get a substring from some position up to but not including a second position\n",
    "location[4:7]"
   ]
  },
  {
   "cell_type": "code",
   "execution_count": null,
   "metadata": {
    "id": "eTptoU4aW-ZI",
    "jupyter": {
     "outputs_hidden": false
    }
   },
   "outputs": [],
   "source": [
    "# get the first n characters from the string\n",
    "location[:5]"
   ]
  },
  {
   "cell_type": "code",
   "execution_count": null,
   "metadata": {
    "id": "y23pNZbmW-ZI",
    "jupyter": {
     "outputs_hidden": false
    }
   },
   "outputs": [],
   "source": [
    "# get the characters from the string after the nth position\n",
    "location[5:]"
   ]
  },
  {
   "cell_type": "code",
   "execution_count": null,
   "metadata": {
    "id": "TE7HDLWoW-ZI"
   },
   "outputs": [],
   "source": [
    "# get the final n characters from the string\n",
    "location[-8:]"
   ]
  },
  {
   "cell_type": "code",
   "execution_count": null,
   "metadata": {
    "id": "Vc25UcBMW-ZJ",
    "jupyter": {
     "outputs_hidden": false
    }
   },
   "outputs": [],
   "source": [
    "# you can replace characters in a string with the replace() method\n",
    "location.replace(\"e\", \"E\")"
   ]
  },
  {
   "cell_type": "code",
   "execution_count": null,
   "metadata": {
    "id": "oqDd13IAW-ZJ"
   },
   "outputs": [],
   "source": [
    "# now it's your turn\n",
    "# create a new string from the 1st, 3rd, and 5th characters in location"
   ]
  },
  {
   "cell_type": "markdown",
   "metadata": {
    "id": "oDUYSIioW-ZJ"
   },
   "source": [
    "## Converting between types"
   ]
  },
  {
   "cell_type": "code",
   "execution_count": null,
   "metadata": {
    "id": "AK06J_pvW-ZJ",
    "jupyter": {
     "outputs_hidden": false
    }
   },
   "outputs": [],
   "source": [
    "zip_code"
   ]
  },
  {
   "cell_type": "code",
   "execution_count": null,
   "metadata": {
    "id": "DsQP88DzW-ZJ",
    "jupyter": {
     "outputs_hidden": false
    }
   },
   "outputs": [],
   "source": [
    "# you can convert between data types\n",
    "type(zip_code)"
   ]
  },
  {
   "cell_type": "code",
   "execution_count": null,
   "metadata": {
    "id": "4c2CEtgLW-ZK",
    "jupyter": {
     "outputs_hidden": false
    }
   },
   "outputs": [],
   "source": [
    "# convert the zip code string to an integer\n",
    "zip_code = int(zip_code)\n",
    "zip_code"
   ]
  },
  {
   "cell_type": "code",
   "execution_count": null,
   "metadata": {
    "id": "8toK3P5aW-ZK",
    "jupyter": {
     "outputs_hidden": false
    }
   },
   "outputs": [],
   "source": [
    "type(zip_code)"
   ]
  },
  {
   "cell_type": "code",
   "execution_count": null,
   "metadata": {
    "id": "e4cbZH0yW-ZK",
    "jupyter": {
     "outputs_hidden": false
    }
   },
   "outputs": [],
   "source": [
    "# the math works better now\n",
    "zip_code * 2"
   ]
  },
  {
   "cell_type": "code",
   "execution_count": null,
   "metadata": {
    "id": "2B6SR2x9W-ZK",
    "jupyter": {
     "outputs_hidden": false
    }
   },
   "outputs": [],
   "source": [
    "x = 3\n",
    "print(x * 2)\n",
    "y = str(x)\n",
    "print(y * 2)"
   ]
  },
  {
   "cell_type": "code",
   "execution_count": null,
   "metadata": {
    "id": "o_T2QgoWW-ZK",
    "jupyter": {
     "outputs_hidden": false
    }
   },
   "outputs": [],
   "source": [
    "# the int function won't convert a string that looks like a floating point number\n",
    "rent_str = \"2500.00\"\n",
    "rent_int = int(rent_str)"
   ]
  },
  {
   "cell_type": "code",
   "execution_count": null,
   "metadata": {
    "id": "a7-RGOTRW-ZK",
    "jupyter": {
     "outputs_hidden": false
    }
   },
   "outputs": [],
   "source": [
    "# but you can daisy-chain functions together to conver the string to a float then to an int\n",
    "# the inner function executes then passes its value to the outer function\n",
    "rent_int = int(float(rent_str))\n",
    "rent_int"
   ]
  },
  {
   "cell_type": "code",
   "execution_count": null,
   "metadata": {
    "id": "aV8ZnINeW-ZK",
    "jupyter": {
     "outputs_hidden": false
    }
   },
   "outputs": [],
   "source": [
    "# you cannot concatenate a string and a number\n",
    "city = \"Los Angeles \"\n",
    "zip_code = 90089\n",
    "city + zip_code"
   ]
  },
  {
   "cell_type": "code",
   "execution_count": null,
   "metadata": {
    "id": "Ag8XDbqFW-ZL",
    "jupyter": {
     "outputs_hidden": false
    }
   },
   "outputs": [],
   "source": [
    "# so convert the number first, then concatenate\n",
    "city + str(zip_code)"
   ]
  },
  {
   "cell_type": "code",
   "execution_count": null,
   "metadata": {
    "id": "3zHt8ZJEW-ZL"
   },
   "outputs": [],
   "source": [
    "# now it's your turn\n",
    "# extract the zip code characters from the end of the \"location\" variable and convert to integer"
   ]
  },
  {
   "cell_type": "markdown",
   "metadata": {
    "id": "SJUORqh6W-ZL"
   },
   "source": [
    "## Iterables: Lists, Tuples, Sets"
   ]
  },
  {
   "cell_type": "code",
   "execution_count": null,
   "metadata": {
    "id": "5helaQUGW-ZL"
   },
   "outputs": [],
   "source": [
    "# first off, tuples are like lists, but immutable (you can't \"edit\" them in place)\n",
    "# they are denoted with parentheses\n",
    "my_tuple = (3, 2, 1, 2)\n",
    "my_tuple"
   ]
  },
  {
   "cell_type": "code",
   "execution_count": null,
   "metadata": {
    "id": "QcGu-nT8W-ZM"
   },
   "outputs": [],
   "source": [
    "# you can find the sum of an iterable with sum()\n",
    "sum(my_tuple)"
   ]
  },
  {
   "cell_type": "code",
   "execution_count": null,
   "metadata": {
    "id": "nChVKtN7W-ZM"
   },
   "outputs": [],
   "source": [
    "# a set contains only unique values\n",
    "# sets are denoted by curly braces (like dicts)... kinda confusing!\n",
    "set(my_tuple)"
   ]
  },
  {
   "cell_type": "code",
   "execution_count": null,
   "metadata": {
    "id": "s1c6J9GqW-ZM"
   },
   "outputs": [],
   "source": [
    "# this is a list\n",
    "my_list = [2, 4, 6, 8]"
   ]
  },
  {
   "cell_type": "code",
   "execution_count": null,
   "metadata": {
    "id": "qiuT7fagW-ZM",
    "jupyter": {
     "outputs_hidden": false
    }
   },
   "outputs": [],
   "source": [
    "# how many elements are in this list?\n",
    "len(my_list)"
   ]
  },
  {
   "cell_type": "code",
   "execution_count": null,
   "metadata": {
    "id": "rwCXOEXTW-ZN",
    "jupyter": {
     "outputs_hidden": false
    }
   },
   "outputs": [],
   "source": [
    "# get the zero-th element in a list\n",
    "my_list[0]"
   ]
  },
  {
   "cell_type": "code",
   "execution_count": null,
   "metadata": {
    "id": "11Sa9dUXW-ZN",
    "jupyter": {
     "outputs_hidden": false
    }
   },
   "outputs": [],
   "source": [
    "# you can update elements in a list because it is mutable\n",
    "my_list[2] = 100\n",
    "my_list"
   ]
  },
  {
   "cell_type": "code",
   "execution_count": null,
   "metadata": {
    "id": "4OOwBRwrW-ZN",
    "jupyter": {
     "outputs_hidden": false
    }
   },
   "outputs": [],
   "source": [
    "# add a new element with the append() method\n",
    "# lists can hold elements of varying data types\n",
    "my_list.append(\"hello\")\n",
    "my_list"
   ]
  },
  {
   "cell_type": "code",
   "execution_count": null,
   "metadata": {
    "id": "WXa9AURsW-ZN",
    "jupyter": {
     "outputs_hidden": false
    }
   },
   "outputs": [],
   "source": [
    "# you can also add lists to concatenate them\n",
    "[1, 2, 3] + [4, 5, 6]"
   ]
  },
  {
   "cell_type": "markdown",
   "metadata": {
    "id": "9jttWMWBW-ZN"
   },
   "source": [
    "## Converting list elements"
   ]
  },
  {
   "cell_type": "code",
   "execution_count": null,
   "metadata": {
    "id": "JyI3rx49W-ZO"
   },
   "outputs": [],
   "source": [
    "# objective: how do we convert a list of integer values into a list of equivalent string values?\n",
    "# in other words, how do we convert each element in a list to a different data type?\n",
    "# first, let's make a list containing the first 5 even numbers\n",
    "int_list = [2, 4, 6, 8, 10]"
   ]
  },
  {
   "cell_type": "code",
   "execution_count": null,
   "metadata": {
    "id": "78nemQurW-ZO"
   },
   "outputs": [],
   "source": [
    "# how many elements are in our list?\n",
    "len(int_list)"
   ]
  },
  {
   "cell_type": "code",
   "execution_count": null,
   "metadata": {
    "id": "GNfZt1UoW-ZO"
   },
   "outputs": [],
   "source": [
    "# what is the value of the element in the zero-th position of the list?\n",
    "int_list[0]"
   ]
  },
  {
   "cell_type": "code",
   "execution_count": null,
   "metadata": {
    "id": "lPkrvrojW-ZO"
   },
   "outputs": [],
   "source": [
    "# what is the data type of this element in the zero-th position?\n",
    "type(int_list[0])"
   ]
  },
  {
   "cell_type": "code",
   "execution_count": null,
   "metadata": {
    "id": "PX67iSEgW-ZO"
   },
   "outputs": [],
   "source": [
    "# let's convert that element from an int to a string using the str() function\n",
    "str(int_list[0])"
   ]
  },
  {
   "cell_type": "code",
   "execution_count": null,
   "metadata": {
    "id": "00Rm0wVXW-ZP"
   },
   "outputs": [],
   "source": [
    "# let's check the data type that results from that str() function operating on our list element\n",
    "type(str(int_list[0]))"
   ]
  },
  {
   "cell_type": "code",
   "execution_count": null,
   "metadata": {
    "id": "BXT25QPvW-ZP"
   },
   "outputs": [],
   "source": [
    "# now we'll create a new list to contain the string versions of our integers\n",
    "str_list = []"
   ]
  },
  {
   "cell_type": "code",
   "execution_count": null,
   "metadata": {
    "id": "r-YJBnnuW-ZQ"
   },
   "outputs": [],
   "source": [
    "# now let's convert the element in the zero-th position of our int_list to a string\n",
    "# and append it to the new str_list that will contain string values\n",
    "# remember, the way to add a new element to a list is list.append()\n",
    "# we are simply appending the result of the string conversion\n",
    "str_list.append(str(int_list[0]))"
   ]
  },
  {
   "cell_type": "code",
   "execution_count": null,
   "metadata": {
    "id": "1vOqRAntW-ZQ"
   },
   "outputs": [],
   "source": [
    "# our str_list should have one element - the value at the zero-th position of int_list, converted to a string\n",
    "str_list"
   ]
  },
  {
   "cell_type": "code",
   "execution_count": null,
   "metadata": {
    "id": "ii6gV91uW-ZR"
   },
   "outputs": [],
   "source": [
    "# looks like that worked, so let's convert and append the rest of the values\n",
    "# we know our int_list contains 5 elements from when we ran len() on it earlier\n",
    "# we've already done position 0, now let's do positions 1 - 4\n",
    "str_list.append(str(int_list[1]))\n",
    "str_list.append(str(int_list[2]))\n",
    "str_list.append(str(int_list[3]))\n",
    "str_list.append(str(int_list[4]))"
   ]
  },
  {
   "cell_type": "code",
   "execution_count": null,
   "metadata": {
    "id": "fCfoBNmwW-ZR"
   },
   "outputs": [],
   "source": [
    "# let's see our list of strings\n",
    "str_list"
   ]
  },
  {
   "cell_type": "code",
   "execution_count": null,
   "metadata": {
    "id": "k5a_zXd2W-ZR"
   },
   "outputs": [],
   "source": [
    "# and for comparison, here's our original list of integers\n",
    "int_list"
   ]
  },
  {
   "cell_type": "code",
   "execution_count": null,
   "metadata": {
    "id": "9DF5pC7EW-ZS"
   },
   "outputs": [],
   "source": [
    "# what we have seen is a manual way of doing this int -> string conversion\n",
    "# the whole benefit of coding is that we automate this sort of manual work\n",
    "# over the next couple of weeks we'll learn more advanced and efficient techniques like this:\n",
    "new_list = []\n",
    "for value in int_list:\n",
    "    new_list.append(str(value))\n",
    "new_list"
   ]
  },
  {
   "cell_type": "code",
   "execution_count": null,
   "metadata": {
    "id": "eYJTljCxW-ZS"
   },
   "outputs": [],
   "source": [
    "# ...and eventually we'll learn even more advanced/efficient techniques, like this:\n",
    "[str(value) for value in int_list]"
   ]
  },
  {
   "cell_type": "code",
   "execution_count": null,
   "metadata": {
    "id": "Q-6beWsBW-ZS"
   },
   "outputs": [],
   "source": [
    "# now you try\n",
    "# write a code snippet to multiply all the items in int_list by 3, then sum the result"
   ]
  },
  {
   "cell_type": "code",
   "execution_count": null,
   "metadata": {
    "id": "YfnAXf2gW-ZT"
   },
   "outputs": [],
   "source": [
    "# now you try\n",
    "# calculate the mean value of int_list"
   ]
  },
  {
   "cell_type": "markdown",
   "metadata": {
    "id": "iUeop36XW-ZT"
   },
   "source": [
    "## Dictionaries"
   ]
  },
  {
   "cell_type": "code",
   "execution_count": null,
   "metadata": {
    "id": "omiwc4R_W-ZT",
    "jupyter": {
     "outputs_hidden": false
    }
   },
   "outputs": [],
   "source": [
    "antonyms = {\"hot\": \"cold\", \"fast\": \"slow\", \"good\": \"bad\"}\n",
    "antonyms"
   ]
  },
  {
   "cell_type": "code",
   "execution_count": null,
   "metadata": {
    "id": "gvrosV00W-ZT",
    "jupyter": {
     "outputs_hidden": false
    }
   },
   "outputs": [],
   "source": [
    "# you can access things in a dictionary using its keys\n",
    "antonyms[\"hot\"]"
   ]
  },
  {
   "cell_type": "code",
   "execution_count": null,
   "metadata": {
    "id": "7SxGvi2pW-ZT",
    "jupyter": {
     "outputs_hidden": false
    }
   },
   "outputs": [],
   "source": [
    "# you can update values in a dictionary because it is mutable\n",
    "antonyms[\"hot\"] = \"freezing\"\n",
    "antonyms"
   ]
  },
  {
   "cell_type": "code",
   "execution_count": null,
   "metadata": {
    "id": "g6i0yw6ZW-ZU",
    "jupyter": {
     "outputs_hidden": false
    }
   },
   "outputs": [],
   "source": [
    "# what are all the keys in this dict?\n",
    "antonyms.keys()"
   ]
  },
  {
   "cell_type": "code",
   "execution_count": null,
   "metadata": {
    "id": "ISynyE_RW-ZU",
    "jupyter": {
     "outputs_hidden": false
    }
   },
   "outputs": [],
   "source": [
    "# what are all the values in this dict?\n",
    "antonyms.values()"
   ]
  },
  {
   "cell_type": "code",
   "execution_count": null,
   "metadata": {
    "id": "Cv6H8_VWW-ZU"
   },
   "outputs": [],
   "source": [
    "# essentially a list of tuples\n",
    "antonyms.items()"
   ]
  },
  {
   "cell_type": "markdown",
   "metadata": {
    "id": "tcKzhloJW-ZU"
   },
   "source": [
    "## What is a program?"
   ]
  },
  {
   "cell_type": "markdown",
   "metadata": {
    "id": "FQGj6axLW-ZU"
   },
   "source": [
    "As Allen Downey explains in Think Python, the main elements of a program are:\n",
    "\n",
    "**input**: Get data from the keyboard, a ﬁle, or some other device.\n",
    "\n",
    "**output**: Display data on the screen or send data to a ﬁle or other device.\n",
    "\n",
    "**math**: Perform basic mathematical operations like addition and multiplication.\n",
    "\n",
    "**conditional execution**: Check for certain conditions and execute the appropriate code.\n",
    "\n",
    "**repetition**: Perform some action repeatedly, usually with some variation.\n",
    "\n",
    "These are common steps that you will find to be a generic recipe for many programs, whether written in Python or any other language."
   ]
  },
  {
   "cell_type": "code",
   "execution_count": null,
   "metadata": {
    "id": "3zNYgjyyW-ZV"
   },
   "outputs": [],
   "source": [
    "# write a short program to calculate the length of the hypotenuse of a right triangle where the other sides have lengths 3 and 4\n",
    "# assign each side's length to its own variable"
   ]
  }
 ],
 "metadata": {
  "colab": {
   "provenance": []
  },
  "kernelspec": {
   "display_name": "Python (ppd430)",
   "language": "python",
   "name": "ppd430"
  },
  "language_info": {
   "codemirror_mode": {
    "name": "ipython",
    "version": 3
   },
   "file_extension": ".py",
   "mimetype": "text/x-python",
   "name": "python",
   "nbconvert_exporter": "python",
   "pygments_lexer": "ipython3",
   "version": "3.9.6"
  }
 },
 "nbformat": 4,
 "nbformat_minor": 0
}
