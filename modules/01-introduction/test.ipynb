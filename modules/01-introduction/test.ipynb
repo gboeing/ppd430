{
 "cells": [
  {
   "cell_type": "code",
   "execution_count": null,
   "metadata": {},
   "outputs": [],
   "source": [
    "!pip install folium geopandas geopy mapclassify numpy osmnx pandas requests seaborn scipy shapely statsmodels"
   ]
  },
  {
   "cell_type": "code",
   "execution_count": null,
   "metadata": {},
   "outputs": [],
   "source": [
    "import folium\n",
    "import geopandas\n",
    "import geopy\n",
    "import mapclassify\n",
    "import numpy\n",
    "import osmnx\n",
    "import pandas\n",
    "import requests\n",
    "import scipy\n",
    "import seaborn\n",
    "import shapely\n",
    "import statsmodels"
   ]
  },
  {
   "cell_type": "code",
   "execution_count": null,
   "metadata": {},
   "outputs": [],
   "source": [
    "gdf = geopandas.read_file(\n",
    "    \"https://raw.githubusercontent.com/gboeing/ppd430/main/data/tl_2017_06_tract/tl_2017_06_tract.shp\"\n",
    ")\n",
    "gdf.shape"
   ]
  },
  {
   "cell_type": "code",
   "execution_count": null,
   "metadata": {},
   "outputs": [],
   "source": []
  }
 ],
 "metadata": {
  "kernelspec": {
   "display_name": "Python (ppd430)",
   "language": "python",
   "name": "ppd430"
  },
  "language_info": {
   "codemirror_mode": {
    "name": "ipython",
    "version": 3
   },
   "file_extension": ".py",
   "mimetype": "text/x-python",
   "name": "python",
   "nbconvert_exporter": "python",
   "pygments_lexer": "ipython3",
   "version": "3.11.4"
  }
 },
 "nbformat": 4,
 "nbformat_minor": 4
}
