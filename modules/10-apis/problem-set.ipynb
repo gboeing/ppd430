{
 "cells": [
  {
   "cell_type": "markdown",
   "metadata": {},
   "source": [
    "# Practice: APIs"
   ]
  },
  {
   "cell_type": "code",
   "execution_count": null,
   "metadata": {
    "id": "vtVhHzoKZsgQ"
   },
   "outputs": [],
   "source": [
    "!curl -s -o pyproject.toml https://raw.githubusercontent.com/gboeing/ppd430/refs/heads/main/pyproject.toml && uv pip install -q -r pyproject.toml"
   ]
  },
  {
   "cell_type": "code",
   "execution_count": null,
   "metadata": {
    "id": "Oybu6SnHavWT"
   },
   "outputs": [],
   "source": [
    "# use OSMnx to model the walkable street network of pasadena\n",
    "# then plot it"
   ]
  },
  {
   "cell_type": "code",
   "execution_count": null,
   "metadata": {},
   "outputs": [],
   "source": [
    "# use OSMnx to download all the building footprints within santa monica"
   ]
  },
  {
   "cell_type": "code",
   "execution_count": null,
   "metadata": {},
   "outputs": [],
   "source": [
    "# use OSMnx to download all the rail stations in pasadena\n",
    "# see how they're tagged: https://wiki.openstreetmap.org/wiki/Tag:railway%3Dstation"
   ]
  },
  {
   "cell_type": "code",
   "execution_count": null,
   "metadata": {},
   "outputs": [],
   "source": [
    "# use OSMnx to download all the parks within 3 kilometers of LA city hall\n",
    "# on OSM parks are tagged like amenity=park"
   ]
  },
  {
   "cell_type": "code",
   "execution_count": null,
   "metadata": {},
   "outputs": [],
   "source": [
    "# use OSMnx to model the street network of santa monica\n",
    "# then calculate basic network stats for the city"
   ]
  },
  {
   "cell_type": "code",
   "execution_count": null,
   "metadata": {},
   "outputs": [],
   "source": []
  }
 ],
 "metadata": {
  "colab": {
   "provenance": []
  },
  "kernelspec": {
   "display_name": "Python 3",
   "name": "python3"
  },
  "language_info": {
   "name": "python"
  }
 },
 "nbformat": 4,
 "nbformat_minor": 0
}
