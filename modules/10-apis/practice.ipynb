{
 "cells": [
  {
   "cell_type": "markdown",
   "metadata": {},
   "source": [
    "# Practice: APIs"
   ]
  },
  {
   "cell_type": "code",
   "execution_count": null,
   "metadata": {
    "id": "vtVhHzoKZsgQ"
   },
   "outputs": [],
   "source": [
    "!curl -s -o pyproject.toml https://raw.githubusercontent.com/gboeing/ppd430/refs/heads/main/pyproject.toml && uv pip install -q -r pyproject.toml"
   ]
  },
  {
   "cell_type": "code",
   "execution_count": null,
   "metadata": {
    "id": "Oybu6SnHavWT"
   },
   "outputs": [],
   "source": [
    "# using a web API, get your notebook server's current IP address, then get its location"
   ]
  },
  {
   "cell_type": "code",
   "execution_count": null,
   "metadata": {},
   "outputs": [],
   "source": [
    "# write a function that accepts a `place` argument then uses OSMnx to\n",
    "# geocode it to lat-lon, then download its weather forecast from the\n",
    "# national weather service API and return it as a DataFrame"
   ]
  },
  {
   "cell_type": "code",
   "execution_count": null,
   "metadata": {},
   "outputs": [],
   "source": [
    "# use OSMnx to download all the building footprints within culver city"
   ]
  },
  {
   "cell_type": "code",
   "execution_count": null,
   "metadata": {},
   "outputs": [],
   "source": [
    "# use OSMnx to download all the rail stations in pasadena\n",
    "# see how they're tagged: https://wiki.openstreetmap.org/wiki/Tag:railway%3Dstation"
   ]
  },
  {
   "cell_type": "code",
   "execution_count": null,
   "metadata": {},
   "outputs": [],
   "source": [
    "# use OSMnx to download all the parks within 3 miles of LA city hall\n",
    "# see the OSM wiki for how parks are tagged"
   ]
  },
  {
   "cell_type": "code",
   "execution_count": null,
   "metadata": {},
   "outputs": [],
   "source": [
    "# use OSMnx to model the street network of santa monica\n",
    "# then calculate basic network stats for the city"
   ]
  },
  {
   "cell_type": "code",
   "execution_count": null,
   "metadata": {},
   "outputs": [],
   "source": [
    "# create a new pandas series of 3 addresses and use the geocode function from the\n",
    "# lecture to geocode them. then create a new pandas series of 3 famous site names\n",
    "# # and use our function to geocode them"
   ]
  },
  {
   "cell_type": "code",
   "execution_count": null,
   "metadata": {},
   "outputs": [],
   "source": [
    "# using the google places API, find the five highest-rated restaurants within\n",
    "# 1 mile of LA union station"
   ]
  },
  {
   "cell_type": "code",
   "execution_count": null,
   "metadata": {},
   "outputs": [],
   "source": []
  }
 ],
 "metadata": {
  "colab": {
   "provenance": []
  },
  "kernelspec": {
   "display_name": "Python 3",
   "name": "python3"
  },
  "language_info": {
   "name": "python"
  }
 },
 "nbformat": 4,
 "nbformat_minor": 0
}
