{
 "cells": [
  {
   "cell_type": "markdown",
   "metadata": {
    "id": "xnHzeDOWrCRb"
   },
   "source": [
    "# APIs\n",
    "\n",
    "Overview of today's topic:\n",
    "\n",
    "  - What are APIs and how do you work with them?\n",
    "  - Geocoding place names and addresses\n",
    "  - Reverse-geocoding coordinates\n",
    "  - Looking up places near some location\n",
    "  - Using data portals programmatically\n",
    "\n",
    "To follow along with this lecture, you need a working Google API key to use the Google Maps Geocoding API and the Google Places API Web Service. These APIs require you to set up billing info, but we won't use them in class beyond the free threshold."
   ]
  },
  {
   "cell_type": "code",
   "execution_count": null,
   "metadata": {
    "id": "_XmnLF_BrCRc"
   },
   "outputs": [],
   "source": [
    "!pip install folium geopandas geopy osmnx pandas requests"
   ]
  },
  {
   "cell_type": "code",
   "execution_count": null,
   "metadata": {
    "id": "k_1-zCZvsgiM"
   },
   "outputs": [],
   "source": [
    "# upload your keys.py file\n",
    "from google.colab import files\n",
    "\n",
    "files.upload()\n",
    "from keys import google_api_key"
   ]
  },
  {
   "cell_type": "code",
   "execution_count": null,
   "metadata": {
    "id": "Ph977NZRrCRc"
   },
   "outputs": [],
   "source": [
    "import re\n",
    "import time\n",
    "\n",
    "import folium\n",
    "import geopandas as gpd\n",
    "import osmnx as ox\n",
    "import pandas as pd\n",
    "import requests\n",
    "from geopy.geocoders import GoogleV3\n",
    "\n",
    "# define a pause duration between API requests\n",
    "pause = 0.1"
   ]
  },
  {
   "cell_type": "markdown",
   "metadata": {
    "id": "tWeJR879rCRd"
   },
   "source": [
    "An API is an application programming interface. It provides a structured way to send commands or requests to a piece of software. \"API\" often refers to a web service API. This is like web site (but designed for applications, rather than humans, to use) that you can send requests to to execute commands or query for data. Today, REST APIs are the most common. To use them, you simply send them a request, and they reply with a response, similar to how a web browser works. The request is sent to an endpoint (a URL) typically with a set of parameters to provide the details of your query or command.\n",
    "\n",
    "In the example below, we make a request to the [ipify](https://www.ipify.org/) API and request a JSON formatted response. Then we look up the location of the IP address it returned, using the [ip-api](https://ip-api.com/) API."
   ]
  },
  {
   "cell_type": "code",
   "execution_count": null,
   "metadata": {
    "id": "5WTbgaOWrCRd"
   },
   "outputs": [],
   "source": [
    "# what is your current public IP address?\n",
    "url = \"https://api.ipify.org?format=json\"\n",
    "data = requests.get(url).json()\n",
    "data"
   ]
  },
  {
   "cell_type": "code",
   "execution_count": null,
   "metadata": {
    "id": "GZuiqUTSrCRd"
   },
   "outputs": [],
   "source": [
    "# and what is the location of that IP address?\n",
    "url = \"http://ip-api.com/json/\" + data[\"ip\"]\n",
    "requests.get(url).json()"
   ]
  },
  {
   "cell_type": "markdown",
   "metadata": {
    "id": "StnqNr8WrCRe"
   },
   "source": [
    "What's the current weather? Use the [National Weather Service](https://www.weather.gov/documentation/services-web-api) API."
   ]
  },
  {
   "cell_type": "code",
   "execution_count": null,
   "metadata": {
    "id": "Bb02Jk62rCRe"
   },
   "outputs": [],
   "source": [
    "# query for the forecast url for a pair of lat-lng coords\n",
    "location = \"34.019268,-118.283554\"\n",
    "url = \"https://api.weather.gov/points/\" + location\n",
    "data = requests.get(url).json()\n",
    "\n",
    "# extract the forecast url and retrieve it\n",
    "forecast_url = data[\"properties\"][\"forecast\"]\n",
    "forecast = requests.get(forecast_url).json()\n",
    "\n",
    "# convert the forecast to a dataframe\n",
    "pd.DataFrame(forecast[\"properties\"][\"periods\"]).head()"
   ]
  },
  {
   "cell_type": "markdown",
   "metadata": {
    "id": "Lh8-hhkOrCRe"
   },
   "source": [
    "You can use any web service's API in this same basic way: request the URL with some parameters. Read the API's documentation to know how to use it and what to send. You can also use many web service's through a Python package to make complex services easier to work with. For example, there's a fantastic package called [cenpy](https://cenpy-devs.github.io/cenpy/) that makes downloading and working with US census data super easy.\n",
    "\n",
    "## 1. Geocoding\n",
    "\n",
    "\"Geocoding\" means converting a text description of some place (such as the place's name or its address) into geographic coordinates identifying the place's location on Earth. These geographic coordinates may take the form of a single latitude-longitude coordinate pair, or a bounding box, or a boundary polygon, etc.\n",
    "\n",
    "### 1a. Geocoding place names with OpenStreetMap via OSMnx\n",
    "\n",
    "[OpenStreetMap](https://www.openstreetmap.org/) is a worldwide mapping platform that anyone can contribute to. [OSMnx](https://github.com/gboeing/osmnx) is a Python package to work with OpenStreetMap for geocoding, downloading geospatial data, and modeling/analyzing networks. OpenStreetMap and OSMnx are free to use and do not require an API key."
   ]
  },
  {
   "cell_type": "code",
   "execution_count": null,
   "metadata": {
    "id": "t2XO956srCRf"
   },
   "outputs": [],
   "source": [
    "# geocode a place name to lat-lng\n",
    "place = \"University of Southern California\"\n",
    "latlng = ox.geocode(place)\n",
    "latlng"
   ]
  },
  {
   "cell_type": "code",
   "execution_count": null,
   "metadata": {
    "id": "-nRUt34DrCRf"
   },
   "outputs": [],
   "source": [
    "# geocode a series of place names to lat-lng\n",
    "places = pd.Series(\n",
    "    [\n",
    "        \"San Diego, California\",\n",
    "        \"Los Angeles, California\",\n",
    "        \"San Francisco, California\",\n",
    "        \"Seattle, Washington\",\n",
    "        \"Vancouver, British Columbia\",\n",
    "    ]\n",
    ")\n",
    "coords = places.map(ox.geocode)"
   ]
  },
  {
   "cell_type": "code",
   "execution_count": null,
   "metadata": {
    "id": "_dLQS4GGrCRg"
   },
   "outputs": [],
   "source": [
    "# parse out lats and lngs to individual columns in a dataframe\n",
    "pd.DataFrame(\n",
    "    {\"place\": places, \"lat\": coords.map(lambda x: x[0]), \"lng\": coords.map(lambda x: x[1])}\n",
    ")"
   ]
  },
  {
   "cell_type": "markdown",
   "metadata": {
    "id": "9K_-sEjErCRg"
   },
   "source": [
    "Instead of lat-lng coordinates, we can also geocode place names to their place's *boundaries* with OSMnx. This essentially looks-up the place in OpenStreetMap's database (note: that means the place has to exist in its database!) then returns its details, including geometry and bounding box, as a GeoPandas GeoDataFrame."
   ]
  },
  {
   "cell_type": "code",
   "execution_count": null,
   "metadata": {
    "id": "q-yduQdArCRg"
   },
   "outputs": [],
   "source": [
    "# geocode a list of place names to a GeoDataFrame\n",
    "# by default, OSMnx retrieves the first [multi]polygon object\n",
    "# specify which_result=1 to retrieve the top match, regardless of geometry type\n",
    "gdf_places = ox.geocode_to_gdf(places.to_list(), which_result=1)\n",
    "gdf_places"
   ]
  },
  {
   "cell_type": "code",
   "execution_count": null,
   "metadata": {
    "id": "YAlYPYZJrCRg"
   },
   "outputs": [],
   "source": [
    "# geocode a single place name to a GeoDataFrame\n",
    "gdf = ox.geocode_to_gdf(place)\n",
    "gdf"
   ]
  },
  {
   "cell_type": "code",
   "execution_count": null,
   "metadata": {
    "id": "oio6MzKKrCRg"
   },
   "outputs": [],
   "source": [
    "# extract the value from row 0's geometry column\n",
    "polygon = gdf[\"geometry\"].iloc[0]\n",
    "polygon"
   ]
  },
  {
   "cell_type": "markdown",
   "metadata": {
    "id": "_TmbMhSZrCRh"
   },
   "source": [
    "Use OSMnx to query for geospatial entities within USC's boundary polygon. You can specify what kind of entities to retrieve by using a `tags` dictionary."
   ]
  },
  {
   "cell_type": "code",
   "execution_count": null,
   "metadata": {
    "id": "6Grj6sA5rCRh"
   },
   "outputs": [],
   "source": [
    "# get all the buildings within that polygon\n",
    "tags = {\"building\": True}\n",
    "gdf_bldg = ox.features_from_polygon(polygon, tags)\n",
    "gdf_bldg.shape"
   ]
  },
  {
   "cell_type": "code",
   "execution_count": null,
   "metadata": {
    "id": "ZINLxOBSrCRi"
   },
   "outputs": [],
   "source": [
    "# plot the building footprints\n",
    "fig, ax = ox.plot_footprints(gdf_bldg)"
   ]
  },
  {
   "cell_type": "code",
   "execution_count": null,
   "metadata": {
    "id": "CGgUPfgqrCRi"
   },
   "outputs": [],
   "source": [
    "# now it's your turn\n",
    "# get all the building footprints within santa monica"
   ]
  },
  {
   "cell_type": "code",
   "execution_count": null,
   "metadata": {
    "id": "TBxjdgAArCRi"
   },
   "outputs": [],
   "source": [
    "# model the street network for some city\n",
    "G = ox.graph_from_place(\"Culver City, California\", network_type=\"drive\")\n",
    "fig, ax = ox.plot_graph(G)"
   ]
  },
  {
   "cell_type": "code",
   "execution_count": null,
   "metadata": {
    "id": "qYoA3kDnrCRj"
   },
   "outputs": [],
   "source": [
    "# calculate basic street network statistics\n",
    "ox.basic_stats(G)"
   ]
  },
  {
   "cell_type": "code",
   "execution_count": null,
   "metadata": {
    "id": "CAs-hLHprCRj"
   },
   "outputs": [],
   "source": [
    "# solve a shortest path (by travel time) between two nodes\n",
    "orig = list(G)[10]\n",
    "dest = list(G)[100]\n",
    "G = ox.add_edge_travel_times(ox.add_edge_speeds(G))\n",
    "route = ox.shortest_path(G, orig=orig, dest=dest, weight=\"travel_time\")\n",
    "fig, ax = ox.plot_graph_route(G, route)"
   ]
  },
  {
   "cell_type": "markdown",
   "metadata": {
    "id": "6tdfh6AprCRj"
   },
   "source": [
    "OSMnx is pretty powerful! If you want to play around with it, check out its [documentation](https://osmnx.readthedocs.io/en/stable/) and interactive [usage examples](https://github.com/gboeing/osmnx-examples).\n",
    "\n",
    "### 1b: Geocoding addresses to lat-lng\n",
    "\n",
    "You can geocode addresses as well with OpenStreetMap, but it can be a little hit-or-miss compared to the data coverage of commercial closed-source services."
   ]
  },
  {
   "cell_type": "code",
   "execution_count": null,
   "metadata": {
    "id": "ti6fMjNhrCRj"
   },
   "outputs": [],
   "source": [
    "# geocode an address to lat-lng\n",
    "address = \"704 S Alvarado St, Los Angeles, California\"\n",
    "latlng = ox.geocode(address)\n",
    "latlng"
   ]
  },
  {
   "cell_type": "markdown",
   "metadata": {
    "id": "fXXsjZKVrCRj"
   },
   "source": [
    "We will use the Google Maps geocoding API. Their geocoder is very powerful, but you do have to pay for it beyond a certain threshold of free usage.\n",
    "\n",
    "Documentation: https://developers.google.com/maps/documentation/geocoding/start"
   ]
  },
  {
   "cell_type": "code",
   "execution_count": null,
   "metadata": {
    "id": "5d4SXi2orCRk"
   },
   "outputs": [],
   "source": [
    "locations = pd.DataFrame(\n",
    "    [\n",
    "        \"704 S Alvarado St, Los Angeles, CA\",\n",
    "        \"100 Larkin St, San Francisco, CA\",\n",
    "        \"350 5th Ave, New York, NY\",\n",
    "    ],\n",
    "    columns=[\"address\"],\n",
    ")\n",
    "locations"
   ]
  },
  {
   "cell_type": "code",
   "execution_count": null,
   "metadata": {
    "id": "vnrGWaDorCRk"
   },
   "outputs": [],
   "source": [
    "# function accepts an address string, sends it to Google API, returns lat-lng result\n",
    "\n",
    "\n",
    "def geocode(address, print_url=False):\n",
    "\n",
    "    # pause for some duration before each request, to not hammer their server\n",
    "    time.sleep(pause)\n",
    "\n",
    "    # api url with placeholders to fill in with variables' values\n",
    "    url_template = \"https://maps.googleapis.com/maps/api/geocode/json?address={}&key={}\"\n",
    "    url = url_template.format(address, google_api_key)\n",
    "    if print_url:\n",
    "        print(url)\n",
    "\n",
    "    # send request to server, get response, and convert json string to dict\n",
    "    response = requests.get(url)\n",
    "    data = response.json()\n",
    "\n",
    "    # if results were returned, extract lat-lng from top result\n",
    "    if len(data[\"results\"]) > 0:\n",
    "        lat = data[\"results\"][0][\"geometry\"][\"location\"][\"lat\"]\n",
    "        lng = data[\"results\"][0][\"geometry\"][\"location\"][\"lng\"]\n",
    "\n",
    "        # return lat-lng as a string\n",
    "        return \"{},{}\".format(lat, lng)\n",
    "\n",
    "    else:\n",
    "        # if no results were returned\n",
    "        print(response.text)"
   ]
  },
  {
   "cell_type": "code",
   "execution_count": null,
   "metadata": {
    "id": "f5mpzhU5rCRk"
   },
   "outputs": [],
   "source": [
    "# test the function\n",
    "geocode(\"350 5th Ave, New York, NY\")"
   ]
  },
  {
   "cell_type": "code",
   "execution_count": null,
   "metadata": {
    "id": "5K--Y7GxrCRk"
   },
   "outputs": [],
   "source": [
    "# for each value in the address column, geocode it, save results as new column\n",
    "locations[\"latlng\"] = locations[\"address\"].map(geocode)\n",
    "locations"
   ]
  },
  {
   "cell_type": "code",
   "execution_count": null,
   "metadata": {
    "id": "m4DBXJutrCRl"
   },
   "outputs": [],
   "source": [
    "# parse the result into separate lat and lng columns, if desired\n",
    "locations[[\"lat\", \"lng\"]] = pd.DataFrame(data=locations[\"latlng\"].str.split(\",\").to_list())\n",
    "locations"
   ]
  },
  {
   "cell_type": "code",
   "execution_count": null,
   "metadata": {
    "id": "v9PbKa5irCRl"
   },
   "outputs": [],
   "source": [
    "# now it's your turn\n",
    "# create a new pandas series of 3 addresses and use our function to geocode them\n",
    "# then create a new pandas series of 3 famous site names and use our function to geocode them\n",
    "# create new variables to contain your work so as to not overwrite the locations df"
   ]
  },
  {
   "cell_type": "markdown",
   "metadata": {
    "id": "jXff2pPNrCRl"
   },
   "source": [
    "## 2. Google Places API\n",
    "\n",
    "We will use Google's Places API to look up places in the vicinity of some location.\n",
    "\n",
    "Documentation: https://developers.google.com/places/web-service/intro"
   ]
  },
  {
   "cell_type": "code",
   "execution_count": null,
   "metadata": {
    "id": "UGXJRAETrCRl"
   },
   "outputs": [],
   "source": [
    "# google places API URL, with placeholders\n",
    "url_template = (\n",
    "    \"https://maps.googleapis.com/maps/api/place/search/json?keyword={}&location={}&radius={}&key={}\"\n",
    ")\n",
    "\n",
    "# what keyword to search for\n",
    "keyword = \"restaurant\"\n",
    "\n",
    "# define the radius (in meters) for the search\n",
    "radius = 500\n",
    "\n",
    "# define the location coordinates\n",
    "location = \"34.019268,-118.283554\""
   ]
  },
  {
   "cell_type": "code",
   "execution_count": null,
   "metadata": {
    "id": "91PUgaUarCRl"
   },
   "outputs": [],
   "source": [
    "# add our variables into the url, submit the request to the api, and load the response\n",
    "url = url_template.format(keyword, location, radius, google_api_key)\n",
    "response = requests.get(url)\n",
    "data = response.json()"
   ]
  },
  {
   "cell_type": "code",
   "execution_count": null,
   "metadata": {
    "id": "MRE583rSrCRm"
   },
   "outputs": [],
   "source": [
    "# how many results did we get?\n",
    "len(data[\"results\"])"
   ]
  },
  {
   "cell_type": "code",
   "execution_count": null,
   "metadata": {
    "id": "EzH_QgF4rCRm"
   },
   "outputs": [],
   "source": [
    "# inspect a result\n",
    "data[\"results\"][0]"
   ]
  },
  {
   "cell_type": "code",
   "execution_count": null,
   "metadata": {
    "id": "tcWv4v8NrCRm"
   },
   "outputs": [],
   "source": [
    "# turn the results into a dataframe of places\n",
    "places = pd.DataFrame(data=data[\"results\"], columns=[\"name\", \"geometry\", \"rating\", \"vicinity\"])\n",
    "places.head()"
   ]
  },
  {
   "cell_type": "code",
   "execution_count": null,
   "metadata": {
    "id": "00jpdAG5rCRm"
   },
   "outputs": [],
   "source": [
    "# parse out lat-long and return it as a series\n",
    "# this creates a dataframe of all the results when you .apply()\n",
    "\n",
    "\n",
    "def parse_coords(geometry):\n",
    "    if isinstance(geometry, dict):\n",
    "        lng = geometry[\"location\"][\"lng\"]\n",
    "        lat = geometry[\"location\"][\"lat\"]\n",
    "        return pd.Series({\"lat\": lat, \"lng\": lng})\n",
    "\n",
    "\n",
    "# test our function\n",
    "places[\"geometry\"].head().apply(parse_coords)"
   ]
  },
  {
   "cell_type": "code",
   "execution_count": null,
   "metadata": {
    "id": "2aST6EijrCRm"
   },
   "outputs": [],
   "source": [
    "# now run our function on the whole dataframe and save the output to 2 new dataframe columns\n",
    "places[[\"lat\", \"lng\"]] = places[\"geometry\"].apply(parse_coords)\n",
    "places_clean = places.drop(\"geometry\", axis=\"columns\")"
   ]
  },
  {
   "cell_type": "code",
   "execution_count": null,
   "metadata": {
    "id": "cLb7p1dOrCRm"
   },
   "outputs": [],
   "source": [
    "# sort the places by rating\n",
    "places_clean = places_clean.sort_values(by=\"rating\", ascending=False)\n",
    "places_clean.head(10)"
   ]
  },
  {
   "cell_type": "code",
   "execution_count": null,
   "metadata": {
    "id": "Cq5Q8pbGrCRm"
   },
   "outputs": [],
   "source": [
    "# now it's your turn\n",
    "# find the five highest-rated bars within 1/2 mile of pershing square\n",
    "# create new variables to contain your work so as to not overwrite places and places_clean"
   ]
  },
  {
   "cell_type": "markdown",
   "metadata": {
    "id": "DzAGBh_xrCRn"
   },
   "source": [
    "## 3. Reverse geocoding\n",
    "\n",
    "Reverse geocoding, as you might expect from its name, does the opposite of regular geocoding: it takes a pair of coordinates on the Earth's surface and looks up what address or place corresponds to that location.\n",
    "\n",
    "We'll use Google's reverse geocoding API. Documentation: https://developers.google.com/maps/documentation/geocoding/intro#ReverseGeocoding\n",
    "\n",
    "As we saw with OSMnx, you often don't have to query the API yourself manually: many popular APIs have dedicated Python packages to work with them. You *can* do this manually, just like in the previous Google examples, but it's a little more complicated to parse Google's address component results. If we just want addresses, we can use [geopy](https://geopy.readthedocs.io/) to simply interact with Google's API automatically for us."
   ]
  },
  {
   "cell_type": "code",
   "execution_count": null,
   "metadata": {
    "id": "KsxPJFBbrCRn"
   },
   "outputs": [],
   "source": [
    "# we'll use the points from the Places API, but you could use any point data here\n",
    "points = places_clean[[\"lat\", \"lng\"]].head()\n",
    "points"
   ]
  },
  {
   "cell_type": "code",
   "execution_count": null,
   "metadata": {
    "id": "vmBr1oPfrCRn"
   },
   "outputs": [],
   "source": [
    "# create a column to put lat-lng into the format google likes\n",
    "points[\"latlng\"] = points.apply(lambda row: \"{},{}\".format(row[\"lat\"], row[\"lng\"]), axis=\"columns\")\n",
    "points.head()"
   ]
  },
  {
   "cell_type": "code",
   "execution_count": null,
   "metadata": {
    "id": "AatGFDWrrCRn"
   },
   "outputs": [],
   "source": [
    "# tell geopy to reverse geocode using Google's API and return address\n",
    "\n",
    "\n",
    "def reverse_geopy(latlng):\n",
    "    time.sleep(pause)\n",
    "    geocoder = GoogleV3(api_key=google_api_key)\n",
    "    address, _ = geocoder.reverse(latlng, exactly_one=True)\n",
    "    return address"
   ]
  },
  {
   "cell_type": "code",
   "execution_count": null,
   "metadata": {
    "id": "uLSE9mCvrCRo"
   },
   "outputs": [],
   "source": [
    "# now reverse-geocode the points to addresses\n",
    "points[\"address\"] = points[\"latlng\"].map(reverse_geopy)\n",
    "points.head()"
   ]
  },
  {
   "cell_type": "markdown",
   "metadata": {
    "id": "tr6IJBXerCRo"
   },
   "source": [
    "## 4. Data Portals\n",
    "\n",
    "Many governments and agencies now open up their data to the public through a data portal. These often offer APIs to query them for real-time data. This example uses the LA Open Data Portal... browse the portal for public datasets: https://data.lacity.org/browse\n",
    "\n",
    "Let's look at parking meter data for those that have sensors telling us if they're currently occupied or vacant: https://data.lacity.org/A-Livable-and-Sustainable-City/LADOT-Parking-Meter-Occupancy/e7h6-4a3e"
   ]
  },
  {
   "cell_type": "code",
   "execution_count": null,
   "metadata": {
    "id": "Xm98khPXrCRo"
   },
   "outputs": [],
   "source": [
    "# define API endpoint\n",
    "url = \"https://data.lacity.org/resource/e7h6-4a3e.json\"\n",
    "\n",
    "# request the URL and download its response\n",
    "response = requests.get(url)\n",
    "\n",
    "# parse the json string into a Python dict\n",
    "data = response.json()\n",
    "len(data)"
   ]
  },
  {
   "cell_type": "code",
   "execution_count": null,
   "metadata": {
    "id": "Jqu5NrvorCRp"
   },
   "outputs": [],
   "source": [
    "# turn the json data into a dataframe\n",
    "df = pd.DataFrame(data)\n",
    "df.shape"
   ]
  },
  {
   "cell_type": "code",
   "execution_count": null,
   "metadata": {
    "id": "1197tv13rCRp"
   },
   "outputs": [],
   "source": [
    "df.columns"
   ]
  },
  {
   "cell_type": "code",
   "execution_count": null,
   "metadata": {
    "id": "FrRjUau6rCRp"
   },
   "outputs": [],
   "source": [
    "df.head()"
   ]
  },
  {
   "cell_type": "markdown",
   "metadata": {
    "id": "PUkcfW3PrCRp"
   },
   "source": [
    "We have parking space ID, occupancy status, and reporting time. But we don't know where these spaces are! Fortunately the LA GeoHub has sensor location data: http://geohub.lacity.org/datasets/parking-meter-sensors/data"
   ]
  },
  {
   "cell_type": "code",
   "execution_count": null,
   "metadata": {
    "id": "1r8iMN3SrCRp",
    "jupyter": {
     "outputs_hidden": false
    }
   },
   "outputs": [],
   "source": [
    "# define API endpoint\n",
    "url = \"https://opendata.arcgis.com/datasets/723c00530ea441deaa35f25e53d098a8_16.geojson\"\n",
    "\n",
    "# request the URL and download its response\n",
    "response = requests.get(url)\n",
    "\n",
    "# parse the json string into a Python dict\n",
    "data = response.json()\n",
    "len(data[\"features\"])"
   ]
  },
  {
   "cell_type": "code",
   "execution_count": null,
   "metadata": {
    "id": "mNrkVuHWrCRp",
    "jupyter": {
     "outputs_hidden": false
    }
   },
   "outputs": [],
   "source": [
    "# turn the geojson data into a geodataframe\n",
    "gdf = gpd.GeoDataFrame.from_features(data)\n",
    "gdf.shape"
   ]
  },
  {
   "cell_type": "code",
   "execution_count": null,
   "metadata": {
    "id": "xz8ntW7PrCRq"
   },
   "outputs": [],
   "source": [
    "# what columns are in our data?\n",
    "gdf.columns"
   ]
  },
  {
   "cell_type": "code",
   "execution_count": null,
   "metadata": {
    "id": "ria1Zq8PrCRq"
   },
   "outputs": [],
   "source": [
    "gdf.head()"
   ]
  },
  {
   "cell_type": "code",
   "execution_count": null,
   "metadata": {
    "id": "5A38nDSPrCRq"
   },
   "outputs": [],
   "source": [
    "# now merge sensor locations with current occupancy status\n",
    "parking = pd.merge(left=gdf, right=df, left_on=\"SENSOR_UNIQUE_ID\", right_on=\"spaceid\", how=\"inner\")\n",
    "parking.shape"
   ]
  },
  {
   "cell_type": "code",
   "execution_count": null,
   "metadata": {
    "id": "-77cUXTWrCRq"
   },
   "outputs": [],
   "source": [
    "parking = parking.loc[:, [\"occupancystate\", \"geometry\", \"ADDRESS_SPACE\"]]\n",
    "\n",
    "# extract lat and lon from geometry column\n",
    "parking[\"lon\"] = parking[\"geometry\"].x\n",
    "parking[\"lat\"] = parking[\"geometry\"].y\n",
    "\n",
    "parking"
   ]
  },
  {
   "cell_type": "code",
   "execution_count": null,
   "metadata": {
    "id": "iiv-NSQXrCRq"
   },
   "outputs": [],
   "source": [
    "# how many vacant vs occupied spots are there right now?\n",
    "parking[\"occupancystate\"].value_counts()"
   ]
  },
  {
   "cell_type": "code",
   "execution_count": null,
   "metadata": {
    "id": "alEcswn2rCRq"
   },
   "outputs": [],
   "source": [
    "# map it\n",
    "vacant = parking[parking[\"occupancystate\"] == \"VACANT\"]\n",
    "ax = vacant.plot(c=\"b\", markersize=1, alpha=0.5)\n",
    "\n",
    "occupied = parking[parking[\"occupancystate\"] == \"OCCUPIED\"]\n",
    "ax = vacant.plot(ax=ax, c=\"r\", markersize=1, alpha=0.5)"
   ]
  },
  {
   "cell_type": "markdown",
   "metadata": {
    "id": "KkVKjltTrCRr"
   },
   "source": [
    "That's impossible to see! At this scale, all the vacant spots are obscured by occupied spots next to them. It would be much better if we had an interactive map..."
   ]
  },
  {
   "cell_type": "code",
   "execution_count": null,
   "metadata": {
    "id": "Dw6S9O7JrCRr"
   },
   "outputs": [],
   "source": [
    "# create leaflet web map centered/zoomed to downtown LA\n",
    "m = folium.Map(location=(34.05, -118.25), zoom_start=15, tiles=\"cartodbpositron\")\n",
    "\n",
    "# add blue markers for each vacant spot\n",
    "cols = [\"lat\", \"lon\", \"ADDRESS_SPACE\"]\n",
    "for lat, lng, address in vacant[cols].values:\n",
    "    folium.CircleMarker(\n",
    "        location=(lat, lng),\n",
    "        radius=5,\n",
    "        color=\"#3186cc\",\n",
    "        fill=True,\n",
    "        fill_color=\"#3186cc\",\n",
    "        tooltip=address,\n",
    "    ).add_to(m)\n",
    "\n",
    "# add red markers for each occupied spot\n",
    "for lat, lng, address in occupied[cols].values:\n",
    "    folium.CircleMarker(\n",
    "        location=(lat, lng),\n",
    "        radius=5,\n",
    "        color=\"#dc143c\",\n",
    "        fill=True,\n",
    "        fill_color=\"#dc143c\",\n",
    "        tooltip=address,\n",
    "    ).add_to(m)"
   ]
  },
  {
   "cell_type": "code",
   "execution_count": null,
   "metadata": {
    "id": "C1IrLMl_rCRr"
   },
   "outputs": [],
   "source": [
    "# now view the web map we created\n",
    "m"
   ]
  },
  {
   "cell_type": "markdown",
   "metadata": {
    "id": "b-5-ImWdrCRs"
   },
   "source": [
    "## Individual exercise\n",
    "\n",
    "1. Visit the LA data portal (link provided above) or another data portal and identify a different data set of interest\n",
    "1. Download it using Python as we did above\n",
    "1. Clean the data set if necessary and calculate descriptive stats for 2 or more columns\n",
    "1. Map the data. Do you see any patterns of interest?"
   ]
  }
 ],
 "metadata": {
  "colab": {
   "provenance": []
  },
  "kernelspec": {
   "display_name": "Python (ppd430)",
   "language": "python",
   "name": "ppd430"
  },
  "language_info": {
   "codemirror_mode": {
    "name": "ipython",
    "version": 3
   },
   "file_extension": ".py",
   "mimetype": "text/x-python",
   "name": "python",
   "nbconvert_exporter": "python",
   "pygments_lexer": "ipython3",
   "version": "3.11.4"
  }
 },
 "nbformat": 4,
 "nbformat_minor": 0
}
