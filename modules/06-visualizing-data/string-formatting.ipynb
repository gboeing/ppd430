{
 "cells": [
  {
   "cell_type": "code",
   "execution_count": null,
   "metadata": {},
   "outputs": [],
   "source": [
    "!curl -s -o pyproject.toml https://raw.githubusercontent.com/gboeing/ppd430/refs/heads/main/pyproject.toml && uv pip install -q -r pyproject.toml"
   ]
  },
  {
   "cell_type": "code",
   "execution_count": null,
   "metadata": {},
   "outputs": [],
   "source": [
    "import pandas as pd\n",
    "import seaborn as sns\n",
    "\n",
    "# configure seaborn's style\n",
    "sns.set_style(\"whitegrid\")\n",
    "sns.set_context(\"paper\")"
   ]
  },
  {
   "cell_type": "code",
   "execution_count": null,
   "metadata": {},
   "outputs": [],
   "source": [
    "# load the california tracts census data\n",
    "df = pd.read_csv(\n",
    "    \"https://raw.githubusercontent.com/gboeing/ppd430/main/data/census_tracts_data_ca.csv\",\n",
    "    dtype={\"GEOID10\": str},\n",
    ").set_index(\"GEOID10\")\n",
    "df.shape"
   ]
  },
  {
   "cell_type": "code",
   "execution_count": null,
   "metadata": {},
   "outputs": [],
   "source": [
    "# create a new column of income in units of 1000s of USD\n",
    "df[\"med_household_income_1000s\"] = df[\"med_household_income\"] / 1000"
   ]
  },
  {
   "cell_type": "code",
   "execution_count": null,
   "metadata": {},
   "outputs": [],
   "source": [
    "# let's look only at counties in southern california\n",
    "socal_counties = [\n",
    "    \"Imperial\",\n",
    "    \"Kern\",\n",
    "    \"Los Angeles\",\n",
    "    \"Orange\",\n",
    "    \"Riverside\",\n",
    "    \"San Bernardino\",\n",
    "    \"San Diego\",\n",
    "    \"San Luis Obispo\",\n",
    "    \"Santa Barbara\",\n",
    "    \"Ventura\",\n",
    "]\n",
    "mask = df[\"county_name\"].isin(socal_counties)\n",
    "df_sc = df[mask]\n",
    "df_sc.shape"
   ]
  },
  {
   "cell_type": "markdown",
   "metadata": {},
   "source": [
    "# Option 1\n",
    "\n",
    "Use column of income in units of 1000s of USD (see above) for nicer x-tick labels."
   ]
  },
  {
   "cell_type": "code",
   "execution_count": null,
   "metadata": {},
   "outputs": [],
   "source": [
    "ax = sns.boxplot(\n",
    "    x=df_sc[\"med_household_income_1000s\"],\n",
    "    y=df_sc[\"county_name\"],\n",
    "    fliersize=1,\n",
    "    boxprops={\"alpha\": 0.7},\n",
    ")\n",
    "\n",
    "ax.set_xlim(left=0)\n",
    "ax.set_title(\"Box plot of tract-level median household income\")\n",
    "ax.set_xlabel(\"2017 inflation-adjusted USD (thousands)\")\n",
    "ax.set_ylabel(\"\")\n",
    "pass  # just show the figure"
   ]
  },
  {
   "cell_type": "markdown",
   "metadata": {},
   "source": [
    "# Option 2\n",
    "\n",
    "Use string formatting to change x-tick labels."
   ]
  },
  {
   "cell_type": "code",
   "execution_count": null,
   "metadata": {},
   "outputs": [],
   "source": [
    "ax = sns.boxplot(\n",
    "    x=df_sc[\"med_household_income\"], y=df_sc[\"county_name\"], fliersize=1, boxprops={\"alpha\": 0.7}\n",
    ")\n",
    "\n",
    "ax.set_xlim(left=0)\n",
    "ax.set_title(\"Box plot of tract-level median household income\")\n",
    "ax.set_xlabel(\"2017 inflation-adjusted USD\")\n",
    "ax.set_ylabel(\"\")\n",
    "\n",
    "# format the x tick labels like $150,000 instead of 150000\n",
    "new_labels = [f\"${x:,.0f}\" for x in ax.get_xticks()]\n",
    "ax.set_xticks(ax.get_xticks())\n",
    "ax.set_xticklabels(new_labels)\n",
    "pass  # just show the figure"
   ]
  },
  {
   "cell_type": "markdown",
   "metadata": {},
   "source": [
    "The string-formatting code is kinda tricky (and why I skipped it in class): `['${:,.0f}'.format(x) for x in ax.get_xticks()]`\n",
    "\n",
    "Here's what it does. This is a list comprehension, like we saw a couple of weeks ago. It loops through x.get_ticks(), a collection of the tick positions in the figure:"
   ]
  },
  {
   "cell_type": "code",
   "execution_count": null,
   "metadata": {},
   "outputs": [],
   "source": [
    "ax.get_xticks()"
   ]
  },
  {
   "cell_type": "markdown",
   "metadata": {},
   "source": [
    "For each item in the collection, it \"formats\" a string template with its value. Here's the string template:"
   ]
  },
  {
   "cell_type": "code",
   "execution_count": null,
   "metadata": {},
   "outputs": [],
   "source": [
    "\"${:,.0f}\""
   ]
  },
  {
   "cell_type": "markdown",
   "metadata": {},
   "source": [
    "The curly braces are a placeholder denoting where to insert values of x. The colon tells it where to begin. The comma means group every three zeroes with a comma. The .0 means to round to zero decimal places. The f means that the values will be of type float. So, for example, in the third pass through the loop (0, 1, 2) you get the following string output:"
   ]
  },
  {
   "cell_type": "code",
   "execution_count": null,
   "metadata": {},
   "outputs": [],
   "source": [
    "x = ax.get_xticks()[2]\n",
    "f\"${x:,.0f}\""
   ]
  },
  {
   "cell_type": "markdown",
   "metadata": {},
   "source": [
    "Or you can round it to two decimal places instead:"
   ]
  },
  {
   "cell_type": "code",
   "execution_count": null,
   "metadata": {},
   "outputs": [],
   "source": [
    "f\"${x:,.2f}\""
   ]
  },
  {
   "cell_type": "code",
   "execution_count": null,
   "metadata": {},
   "outputs": [],
   "source": []
  }
 ],
 "metadata": {
  "kernelspec": {
   "display_name": "Python (ppd430)",
   "language": "python",
   "name": "ppd430"
  },
  "language_info": {
   "codemirror_mode": {
    "name": "ipython",
    "version": 3
   },
   "file_extension": ".py",
   "mimetype": "text/x-python",
   "name": "python",
   "nbconvert_exporter": "python",
   "pygments_lexer": "ipython3",
   "version": "3.11.4"
  }
 },
 "nbformat": 4,
 "nbformat_minor": 4
}
